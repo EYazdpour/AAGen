{
  "nbformat": 4,
  "nbformat_minor": 0,
  "metadata": {
    "colab": {
      "name": "MNIST+FGSM.ipynb",
      "provenance": [],
      "collapsed_sections": [],
      "toc_visible": true
    },
    "kernelspec": {
      "name": "python3",
      "display_name": "Python 3"
    },
    "language_info": {
      "name": "python"
    }
  },
  "cells": [
    {
      "cell_type": "code",
      "metadata": {
        "id": "qRg3mUqWH6hw"
      },
      "source": [
        "from keras.datasets import mnist\n",
        "from keras.models import Sequential, load_model\n",
        "from keras.layers.core import Dense, Dropout, Activation\n",
        "import matplotlib\n",
        "import matplotlib.pyplot as plt\n",
        "import numpy as np\n",
        "from keras.utils import np_utils"
      ],
      "execution_count": 111,
      "outputs": []
    },
    {
      "cell_type": "code",
      "metadata": {
        "id": "-lgulHZ8OO6J"
      },
      "source": [
        "(X_train, y_train), (X_test, y_test) = mnist.load_data()"
      ],
      "execution_count": 112,
      "outputs": []
    },
    {
      "cell_type": "code",
      "metadata": {
        "colab": {
          "base_uri": "https://localhost:8080/",
          "height": 297
        },
        "id": "P92i2AawOsDU",
        "outputId": "f6a5491c-1b6d-4aa2-b210-b631a8ff10c4"
      },
      "source": [
        "fig = plt.figure()\n",
        "for i in range(16):\n",
        "  plt.subplot(4,4,i+1)\n",
        "  plt.tight_layout()\n",
        "  plt.imshow(X_train[50000+i])\n",
        "  plt.title(f\"Digit: {y_train[50000+i]}\")"
      ],
      "execution_count": 113,
      "outputs": [
        {
          "output_type": "display_data",
          "data": {
            "image/png": "[encoded data removed]",
            "text/plain": [
              "<Figure size 432x288 with 16 Axes>"
            ]
          },
          "metadata": {
            "tags": [],
            "needs_background": "light"
          }
        }
      ]
    },
    {
      "cell_type": "code",
      "metadata": {
        "colab": {
          "base_uri": "https://localhost:8080/"
        },
        "id": "-ow0FliKQm2B",
        "outputId": "9783f977-6d32-4bb3-e98e-dfa36cc2c3de"
      },
      "source": [
        "print(f\"X_train shape: {X_train.shape}\")\n",
        "print(f\"y_train shape: {y_train.shape}\")\n",
        "print(f\"X_test shape: {X_test.shape}\")\n",
        "print(f\"y_test shape: {y_test.shape}\")"
      ],
      "execution_count": 114,
      "outputs": [
        {
          "output_type": "stream",
          "text": [
            "X_train shape: (60000, 28, 28)\n",
            "y_train shape: (60000,)\n",
            "X_test shape: (10000, 28, 28)\n",
            "y_test shape: (10000,)\n"
          ],
          "name": "stdout"
        }
      ]
    },
    {
      "cell_type": "code",
      "metadata": {
        "id": "ZWMkFUJOVl06"
      },
      "source": [
        "X_train = X_train / 255\n",
        "X_test = X_test / 255\n"
      ],
      "execution_count": 115,
      "outputs": []
    },
    {
      "cell_type": "code",
      "metadata": {
        "id": "G84lCcCaewCA",
        "colab": {
          "base_uri": "https://localhost:8080/"
        },
        "outputId": "87e9dc37-52e8-4563-b3b5-d518548a2947"
      },
      "source": [
        "X_train = X_train.reshape(60000, 784)\n",
        "X_test = X_test.reshape(10000, 784)\n",
        "X_train = X_train.astype('float32')\n",
        "X_test = X_test.astype('float32')\n",
        "print(f\"X_train shape: {X_train.shape}\")\n",
        "print(f\"X_test shape: {X_test.shape}\")"
      ],
      "execution_count": 116,
      "outputs": [
        {
          "output_type": "stream",
          "text": [
            "X_train shape: (60000, 784)\n",
            "X_test shape: (10000, 784)\n"
          ],
          "name": "stdout"
        }
      ]
    },
    {
      "cell_type": "code",
      "metadata": {
        "id": "aqe63w4itTH4"
      },
      "source": [
        "y_test = np_utils.to_categorical(y_test, 10)\n",
        "y_train = np_utils.to_categorical(y_train, 10)"
      ],
      "execution_count": 117,
      "outputs": []
    },
    {
      "cell_type": "code",
      "metadata": {
        "id": "DlUX-36CziCC"
      },
      "source": [
        "model = Sequential()\n",
        "model.add(Dense(300, input_shape = (784,)))\n",
        "model.add(Activation('relu'))\n",
        "model.add(Dropout(0.2))\n",
        "\n",
        "model.add(Dense(300))\n",
        "model.add(Activation('relu'))\n",
        "model.add(Dropout(0.2))\n",
        "\n",
        "model.add(Dense(10))\n",
        "model.add(Activation('softmax'))\n"
      ],
      "execution_count": 118,
      "outputs": []
    },
    {
      "cell_type": "code",
      "metadata": {
        "id": "sMUdO3nA1p9G"
      },
      "source": [
        "model.compile(loss='categorical_crossentropy', metrics=['accuracy'], optimizer='Nadam')"
      ],
      "execution_count": 119,
      "outputs": []
    },
    {
      "cell_type": "code",
      "metadata": {
        "colab": {
          "base_uri": "https://localhost:8080/"
        },
        "id": "XGVNCCSu2RD0",
        "outputId": "d83f78df-4f2e-4883-beb0-8876bd1f72c5"
      },
      "source": [
        "his = model.fit(X_train, y_train, batch_size = 100, epochs=10, validation_data=(X_test, y_test)) "
      ],
      "execution_count": 120,
      "outputs": [
        {
          "output_type": "stream",
          "text": [
            "Epoch 1/10\n",
            "600/600 [==============================] - 9s 14ms/step - loss: 0.4980 - accuracy: 0.8526 - val_loss: 0.1155 - val_accuracy: 0.9630\n",
            "Epoch 2/10\n",
            "600/600 [==============================] - 8s 13ms/step - loss: 0.1195 - accuracy: 0.9640 - val_loss: 0.0823 - val_accuracy: 0.9729\n",
            "Epoch 3/10\n",
            "600/600 [==============================] - 7s 12ms/step - loss: 0.0802 - accuracy: 0.9746 - val_loss: 0.0739 - val_accuracy: 0.9769\n",
            "Epoch 4/10\n",
            "600/600 [==============================] - 8s 13ms/step - loss: 0.0604 - accuracy: 0.9801 - val_loss: 0.0734 - val_accuracy: 0.9766\n",
            "Epoch 5/10\n",
            "600/600 [==============================] - 7s 12ms/step - loss: 0.0512 - accuracy: 0.9838 - val_loss: 0.0758 - val_accuracy: 0.9769\n",
            "Epoch 6/10\n",
            "600/600 [==============================] - 8s 13ms/step - loss: 0.0439 - accuracy: 0.9853 - val_loss: 0.0647 - val_accuracy: 0.9793\n",
            "Epoch 7/10\n",
            "600/600 [==============================] - 8s 13ms/step - loss: 0.0396 - accuracy: 0.9861 - val_loss: 0.0658 - val_accuracy: 0.9802\n",
            "Epoch 8/10\n",
            "600/600 [==============================] - 7s 12ms/step - loss: 0.0311 - accuracy: 0.9900 - val_loss: 0.0739 - val_accuracy: 0.9786\n",
            "Epoch 9/10\n",
            "600/600 [==============================] - 7s 12ms/step - loss: 0.0316 - accuracy: 0.9891 - val_loss: 0.0792 - val_accuracy: 0.9777\n",
            "Epoch 10/10\n",
            "600/600 [==============================] - 8s 13ms/step - loss: 0.0286 - accuracy: 0.9898 - val_loss: 0.0693 - val_accuracy: 0.9817\n"
          ],
          "name": "stdout"
        }
      ]
    },
    {
      "cell_type": "code",
      "metadata": {
        "colab": {
          "base_uri": "https://localhost:8080/",
          "height": 297
        },
        "id": "cdjTAJhE5CZ7",
        "outputId": "8688f687-0864-4b44-f180-7aa54c1534e7"
      },
      "source": [
        "fig = plt.figure()\n",
        "plt.subplot(2,1,1)\n",
        "plt.plot(his.history['loss'])\n",
        "plt.plot(his.history[\"val_loss\"])\n",
        "plt.legend(['train', 'test'], loc='lower right')\n",
        "\n",
        "plt.subplot(2,1,2)\n",
        "plt.plot(his.history['accuracy'])\n",
        "plt.plot(his.history[\"val_accuracy\"])\n",
        "plt.legend(['train', 'test'], loc='lower right')\n",
        "\n",
        "plt.tight_layout()"
      ],
      "execution_count": 121,
      "outputs": [
        {
          "output_type": "display_data",
          "data": {
            "image/png": "[encoded data removed]",
            "text/plain": [
              "<Figure size 432x288 with 2 Axes>"
            ]
          },
          "metadata": {
            "tags": [],
            "needs_background": "light"
          }
        }
      ]
    },
    {
      "cell_type": "code",
      "metadata": {
        "colab": {
          "base_uri": "https://localhost:8080/"
        },
        "id": "KJ3tHa4KKoET",
        "outputId": "3c9549a1-c410-4b82-a94f-10b205f07cea"
      },
      "source": [
        "#Evaluating model\n",
        "loss, acc = model.evaluate(X_test, y_test, verbose=0)\n",
        "print('Testing Loss of Model = ', loss)\n",
        "print('Testing Accuracy of Model = ',acc)"
      ],
      "execution_count": 122,
      "outputs": [
        {
          "output_type": "stream",
          "text": [
            "Testing Loss of Model =  0.06932522356510162\n",
            "Testing Accuracy of Model =  0.9817000031471252\n"
          ],
          "name": "stdout"
        }
      ]
    },
    {
      "cell_type": "code",
      "metadata": {
        "id": "-KW7e9Gr9kRd"
      },
      "source": [
        "import tensorflow as tf\n",
        "from tensorflow.keras.utils import to_categorical\n",
        "\n",
        "loss_object = tf.keras.losses.CategoricalCrossentropy()\n",
        "\n",
        "def create_adversarial_pattern(input_image, input_label):\n",
        "  \n",
        "    input_image = tf.cast(input_image, tf.float32)\n",
        "    with tf.GradientTape() as tape:\n",
        "        tape.watch(input_image)\n",
        "        prediction = model (input_image)\n",
        "        loss = loss_object(input_label, prediction)\n",
        "\n",
        "    # Get the gradients of the loss w.r.t to the input image.\n",
        "    gradient = tape.gradient(loss, input_image)\n",
        "    # Get the sign of the gradients to create the perturbation\n",
        "    signed_grad = tf.sign(gradient)\n",
        "    return signed_grad"
      ],
      "execution_count": 123,
      "outputs": []
    },
    {
      "cell_type": "code",
      "metadata": {
        "colab": {
          "base_uri": "https://localhost:8080/",
          "height": 283
        },
        "id": "8Wo_-FAb9nS-",
        "outputId": "4f949f42-5a42-4afe-ab4b-9efb4f79f63c"
      },
      "source": [
        "# Get the input label of the image.\n",
        "image = X_train[0]\n",
        "label = y_train[0]\n",
        "perturbations = create_adversarial_pattern(image.reshape(1,784), label.reshape(1,10)).numpy()\n",
        "\n",
        "adversarial = image + perturbations * 0.1\n",
        "plt.imshow(adversarial.reshape((28, 28)))\n"
      ],
      "execution_count": 124,
      "outputs": [
        {
          "output_type": "execute_result",
          "data": {
            "text/plain": [
              "<matplotlib.image.AxesImage at 0x7fb166361f90>"
            ]
          },
          "metadata": {
            "tags": []
          },
          "execution_count": 124
        },
        {
          "output_type": "display_data",
          "data": {
            "image/png": "[encoded data removed]",
            "text/plain": [
              "<Figure size 432x288 with 1 Axes>"
            ]
          },
          "metadata": {
            "tags": [],
            "needs_background": "light"
          }
        }
      ]
    },
    {
      "cell_type": "code",
      "metadata": {
        "colab": {
          "base_uri": "https://localhost:8080/"
        },
        "id": "Y85R6dvHJQaE",
        "outputId": "88efa30b-422d-4040-b4c3-28736e28f19c"
      },
      "source": [
        "labels = ['zero', 'one', 'two', 'three', 'four', 'five', 'six', 'seven', 'eight', 'nine']\n",
        "print('Actual result is', labels[model.predict(image.reshape((1, 784))).argmax()])\n",
        "print('Adversarial attack result is', labels[model.predict(adversarial).argmax()])"
      ],
      "execution_count": 125,
      "outputs": [
        {
          "output_type": "stream",
          "text": [
            "Actual result is five\n",
            "Adversarial attack result is three\n"
          ],
          "name": "stdout"
        }
      ]
    }
  ]
}