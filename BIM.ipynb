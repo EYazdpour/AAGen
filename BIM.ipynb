{
  "nbformat": 4,
  "nbformat_minor": 0,
  "metadata": {
    "colab": {
      "name": "BIM.ipynb",
      "provenance": []
    },
    "kernelspec": {
      "name": "python3",
      "display_name": "Python 3"
    },
    "language_info": {
      "name": "python"
    }
  },
  "cells": [
    {
      "cell_type": "code",
      "metadata": {
        "colab": {
          "base_uri": "https://localhost:8080/"
        },
        "id": "SuoGMUBjzwd0",
        "outputId": "2eee3d2a-7535-4eaa-dee1-74d7db72db69"
      },
      "source": [
        "!pip install torchattacks\n",
        "import torchattacks\n",
        "\n",
        "def BIM (image, label, model):\n",
        "  atk = torchattacks.BIM(model, eps=8/255, alpha=2/255, steps=4)\n",
        "  adv_image = atk(image, label)\n",
        "  return adv_image"
      ],
      "execution_count": 10,
      "outputs": [
        {
          "output_type": "stream",
          "text": [
            "Requirement already satisfied: torchattacks in /usr/local/lib/python3.7/dist-packages (3.0.0)\n"
          ],
          "name": "stdout"
        }
      ]
    }
  ]
}