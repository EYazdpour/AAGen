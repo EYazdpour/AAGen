{
  "nbformat": 4,
  "nbformat_minor": 0,
  "metadata": {
    "colab": {
      "name": "Dataset_MNIST.ipynb",
      "provenance": [],
      "collapsed_sections": [],
      "toc_visible": true
    },
    "kernelspec": {
      "name": "python3",
      "display_name": "Python 3"
    },
    "language_info": {
      "name": "python"
    }
  },
  "cells": [
    {
      "cell_type": "code",
      "metadata": {
        "id": "qRg3mUqWH6hw"
      },
      "source": [
        "from keras.datasets import mnist\n",
        "from keras.models import Sequential, load_model\n",
        "from keras.layers.core import Dense, Dropout, Activation\n",
        "import matplotlib\n",
        "import matplotlib.pyplot as plt\n",
        "import numpy as np\n",
        "from keras.utils import np_utils"
      ],
      "execution_count": 13,
      "outputs": []
    },
    {
      "cell_type": "code",
      "metadata": {
        "id": "-lgulHZ8OO6J"
      },
      "source": [
        "(X_train, y_train), (X_test, y_test) = mnist.load_data()"
      ],
      "execution_count": 14,
      "outputs": []
    },
    {
      "cell_type": "code",
      "metadata": {
        "colab": {
          "base_uri": "https://localhost:8080/",
          "height": 297
        },
        "id": "P92i2AawOsDU",
        "outputId": "84e0c50a-9943-4590-ccfc-2038b43a9161"
      },
      "source": [
        "fig = plt.figure()\n",
        "for i in range(16):\n",
        "  plt.subplot(4,4,i+1)\n",
        "  plt.tight_layout()\n",
        "  plt.imshow(X_train[50000+i])\n",
        "  plt.title(f\"Digit: {y_train[50000+i]}\")"
      ],
      "execution_count": 15,
      "outputs": [
        {
          "output_type": "display_data",
          "data": {
            "image/png": "[encoded data removed]",
            "text/plain": [
              "<Figure size 432x288 with 16 Axes>"
            ]
          },
          "metadata": {
            "tags": [],
            "needs_background": "light"
          }
        }
      ]
    },
    {
      "cell_type": "code",
      "metadata": {
        "colab": {
          "base_uri": "https://localhost:8080/"
        },
        "id": "-ow0FliKQm2B",
        "outputId": "30715a3e-7ebd-4e97-c41b-871873c0cd62"
      },
      "source": [
        "print(f\"X_train shape: {X_train.shape}\")\n",
        "print(f\"y_train shape: {y_train.shape}\")\n",
        "print(f\"X_test shape: {X_test.shape}\")\n",
        "print(f\"y_test shape: {y_test.shape}\")"
      ],
      "execution_count": 16,
      "outputs": [
        {
          "output_type": "stream",
          "text": [
            "X_train shape: (60000, 28, 28)\n",
            "y_train shape: (60000,)\n",
            "X_test shape: (10000, 28, 28)\n",
            "y_test shape: (10000,)\n"
          ],
          "name": "stdout"
        }
      ]
    },
    {
      "cell_type": "code",
      "metadata": {
        "id": "ZWMkFUJOVl06"
      },
      "source": [
        "X_train = X_train / 255\n",
        "X_test = X_test / 255\n"
      ],
      "execution_count": 17,
      "outputs": []
    },
    {
      "cell_type": "code",
      "metadata": {
        "id": "G84lCcCaewCA"
      },
      "source": [
        "X_train = X_train.reshape(60000, 784)\n",
        "X_test = X_test.reshape(10000, 784)\n",
        "X_train = X_train.astype('float32')\n",
        "X_test = X_test.astype('float32')\n"
      ],
      "execution_count": 18,
      "outputs": []
    },
    {
      "cell_type": "code",
      "metadata": {
        "id": "aqe63w4itTH4"
      },
      "source": [
        "y_test = np_utils.to_categorical(y_test, 10)\n",
        "y_train = np_utils.to_categorical(y_train, 10)"
      ],
      "execution_count": 19,
      "outputs": []
    },
    {
      "cell_type": "code",
      "metadata": {
        "id": "DlUX-36CziCC"
      },
      "source": [
        "model = Sequential()\n",
        "model.add(Dense(300, input_shape = (784,)))\n",
        "model.add(Activation('relu'))\n",
        "model.add(Dropout(0.2))\n",
        "\n",
        "model.add(Dense(300))\n",
        "model.add(Activation('relu'))\n",
        "model.add(Dropout(0.2))\n",
        "\n",
        "model.add(Dense(10))\n",
        "model.add(Activation('softmax'))\n"
      ],
      "execution_count": 20,
      "outputs": []
    },
    {
      "cell_type": "code",
      "metadata": {
        "id": "sMUdO3nA1p9G"
      },
      "source": [
        "model.compile(loss='categorical_crossentropy', metrics=['accuracy'], optimizer='Nadam')"
      ],
      "execution_count": 21,
      "outputs": []
    },
    {
      "cell_type": "code",
      "metadata": {
        "colab": {
          "base_uri": "https://localhost:8080/"
        },
        "id": "XGVNCCSu2RD0",
        "outputId": "646d154e-ac08-414e-a612-85a7e1478b0b"
      },
      "source": [
        "his = model.fit(X_train, y_train, batch_size = 100, epochs=10, validation_data=(X_test, y_test)) "
      ],
      "execution_count": 22,
      "outputs": [
        {
          "output_type": "stream",
          "text": [
            "Epoch 1/10\n",
            "600/600 [==============================] - 7s 10ms/step - loss: 0.5056 - accuracy: 0.8478 - val_loss: 0.1112 - val_accuracy: 0.9664\n",
            "Epoch 2/10\n",
            "600/600 [==============================] - 5s 9ms/step - loss: 0.1195 - accuracy: 0.9627 - val_loss: 0.0859 - val_accuracy: 0.9728\n",
            "Epoch 3/10\n",
            "600/600 [==============================] - 5s 9ms/step - loss: 0.0831 - accuracy: 0.9745 - val_loss: 0.0717 - val_accuracy: 0.9772\n",
            "Epoch 4/10\n",
            "600/600 [==============================] - 6s 9ms/step - loss: 0.0608 - accuracy: 0.9800 - val_loss: 0.0762 - val_accuracy: 0.9764\n",
            "Epoch 5/10\n",
            "600/600 [==============================] - 6s 9ms/step - loss: 0.0516 - accuracy: 0.9840 - val_loss: 0.0642 - val_accuracy: 0.9797\n",
            "Epoch 6/10\n",
            "600/600 [==============================] - 6s 9ms/step - loss: 0.0448 - accuracy: 0.9856 - val_loss: 0.0643 - val_accuracy: 0.9812\n",
            "Epoch 7/10\n",
            "600/600 [==============================] - 5s 9ms/step - loss: 0.0395 - accuracy: 0.9871 - val_loss: 0.0638 - val_accuracy: 0.9810\n",
            "Epoch 8/10\n",
            "600/600 [==============================] - 6s 9ms/step - loss: 0.0365 - accuracy: 0.9883 - val_loss: 0.0624 - val_accuracy: 0.9822\n",
            "Epoch 9/10\n",
            "600/600 [==============================] - 5s 9ms/step - loss: 0.0305 - accuracy: 0.9897 - val_loss: 0.0636 - val_accuracy: 0.9821\n",
            "Epoch 10/10\n",
            "600/600 [==============================] - 5s 9ms/step - loss: 0.0280 - accuracy: 0.9902 - val_loss: 0.0689 - val_accuracy: 0.9814\n"
          ],
          "name": "stdout"
        }
      ]
    },
    {
      "cell_type": "code",
      "metadata": {
        "colab": {
          "base_uri": "https://localhost:8080/",
          "height": 297
        },
        "id": "cdjTAJhE5CZ7",
        "outputId": "17fc2a95-6693-42aa-80bf-abbb63c683b2"
      },
      "source": [
        "fig = plt.figure()\n",
        "plt.subplot(2,1,1)\n",
        "plt.plot(his.history['loss'])\n",
        "plt.plot(his.history[\"val_loss\"])\n",
        "plt.legend(['train', 'test'], loc='lower right')\n",
        "\n",
        "plt.subplot(2,1,2)\n",
        "plt.plot(his.history['accuracy'])\n",
        "plt.plot(his.history[\"val_accuracy\"])\n",
        "plt.legend(['train', 'test'], loc='lower right')\n",
        "\n",
        "plt.tight_layout()"
      ],
      "execution_count": 23,
      "outputs": [
        {
          "output_type": "display_data",
          "data": {
            "image/png": "[encoded data removed]",
            "text/plain": [
              "<Figure size 432x288 with 2 Axes>"
            ]
          },
          "metadata": {
            "tags": [],
            "needs_background": "light"
          }
        }
      ]
    },
    {
      "cell_type": "code",
      "metadata": {
        "colab": {
          "base_uri": "https://localhost:8080/"
        },
        "id": "v9sm62OTjoaG",
        "outputId": "d7a6fdbd-885c-4bed-aff1-fa64cdaba1c2"
      },
      "source": [
        "#Evaluating model\n",
        "loss, acc = model.evaluate(X_test, y_test, verbose=0)\n",
        "print('Testing Loss of Model = ', loss)\n",
        "print('Testing Accuracy of Model = ',acc)"
      ],
      "execution_count": 24,
      "outputs": [
        {
          "output_type": "stream",
          "text": [
            "Testing Loss of Model =  0.0688786655664444\n",
            "Testing Accuracy of Model =  0.9814000129699707\n"
          ],
          "name": "stdout"
        }
      ]
    }
  ]
}